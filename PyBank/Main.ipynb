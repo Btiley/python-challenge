{
 "cells": [
  {
   "cell_type": "code",
   "execution_count": 1,
   "metadata": {},
   "outputs": [],
   "source": [
    "import os\n",
    "import csv"
   ]
  },
  {
   "cell_type": "code",
   "execution_count": 2,
   "metadata": {},
   "outputs": [],
   "source": [
    "file_to_load = os.path.join(\"Resources\", \"budget_data.csv\")"
   ]
  },
  {
   "cell_type": "code",
   "execution_count": 3,
   "metadata": {},
   "outputs": [],
   "source": [
    "total_months = 0\n",
    "total_amount = 0\n"
   ]
  },
  {
   "cell_type": "code",
   "execution_count": 16,
   "metadata": {},
   "outputs": [
    {
     "name": "stdout",
     "output_type": "stream",
     "text": [
      "671099\n",
      "671098\n"
     ]
    }
   ],
   "source": [
    "with open(file_to_load, \"r\") as data:\n",
    "    csvreader = csv.reader(data, delimiter = ',')\n",
    "    header = next(csvreader)\n",
    "    change_list = []\n",
    "\n",
    "    for row in csvreader:\n",
    "        total_months = total_months +1\n",
    "        total_amount = total_amount + int(row[1])\n",
    "        \n",
    "        change = int(row[1]) - (int(row[1]) - 1)\n",
    "        change_list.append(change)\n",
    "        \n",
    "        #Sum(Change_list)\n",
    "        #Count(Change_List)\n",
    "        #Sum/Count\n",
    "        #Min(Change_list)\n",
    "        #Max(Change_List)\n",
    "        #append new value onto change\n",
    "\n",
    "#print(\"Total Months:\",total_months)\n",
    "#print(\"Total Amount:\", total_amount) \n",
    "print(change_list)\n"
   ]
  },
  {
   "cell_type": "code",
   "execution_count": null,
   "metadata": {},
   "outputs": [],
   "source": []
  }
 ],
 "metadata": {
  "kernelspec": {
   "display_name": "Python [conda env:PythonData] *",
   "language": "python",
   "name": "conda-env-PythonData-py"
  },
  "language_info": {
   "codemirror_mode": {
    "name": "ipython",
    "version": 3
   },
   "file_extension": ".py",
   "mimetype": "text/x-python",
   "name": "python",
   "nbconvert_exporter": "python",
   "pygments_lexer": "ipython3",
   "version": "3.6.10"
  }
 },
 "nbformat": 4,
 "nbformat_minor": 4
}
